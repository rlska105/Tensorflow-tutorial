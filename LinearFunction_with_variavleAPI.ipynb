{
 "cells": [
  {
   "cell_type": "code",
   "execution_count": 3,
   "metadata": {},
   "outputs": [
    {
     "name": "stdout",
     "output_type": "stream",
     "text": [
      "[ 6.991299  9.967989 10.960218 11.952448]\n"
     ]
    }
   ],
   "source": [
    "import tensorflow as tf\n",
    "import tensorflow.compat.v1 as tf\n",
    "tf.disable_v2_behavior()\n",
    "\n",
    "W = tf.Variable(tf.random_normal(shape=[1]))   \n",
    "b = tf.Variable(tf.random_normal(shape=[1]))\n",
    "x = tf.placeholder(tf.float32)\n",
    "linear_model = W*x + b\n",
    "\n",
    "y = tf.placeholder(tf.float32)\n",
    "\n",
    "loss = tf.reduce_mean(tf.square(linear_model - y))\n",
    "\n",
    "tf.summary.scalar('loss', loss)\n",
    "\n",
    "optimizer = tf.train.GradientDescentOptimizer(0.01)\n",
    "train_step = optimizer.minimize(loss)\n",
    "\n",
    "x_train = [1, 2, 3, 4]\n",
    "y_train = [2, 4, 6, 8]\n",
    "\n",
    "sess = tf.Session()\n",
    "sess.run(tf.global_variables_initializer())\n",
    "\n",
    "merged = tf.summary.merge_all()\n",
    "tensorboard_writer = tf.summary.FileWriter('./logs/sample', sess.graph)\n",
    "\n",
    "for i in range(1000):\n",
    "    sess.run(train_step, feed_dict={x: x_train, y: y_train})\n",
    "    \n",
    "    summary = sess.run(merged, feed_dict={x: x_train, y: y_train})\n",
    "    tensorboard_writer.add_summary(summary, i)\n",
    "    \n",
    "x_test = [3.5, 5, 5.5, 6]\n",
    "\n",
    "print(sess.run(linear_model, feed_dict={x: x_test}))\n",
    "\n",
    "sess.close()"
   ]
  },
  {
   "cell_type": "code",
   "execution_count": null,
   "metadata": {},
   "outputs": [],
   "source": []
  }
 ],
 "metadata": {
  "kernelspec": {
   "display_name": "Python 3",
   "language": "python",
   "name": "python3"
  },
  "language_info": {
   "codemirror_mode": {
    "name": "ipython",
    "version": 3
   },
   "file_extension": ".py",
   "mimetype": "text/x-python",
   "name": "python",
   "nbconvert_exporter": "python",
   "pygments_lexer": "ipython3",
   "version": "3.7.6"
  }
 },
 "nbformat": 4,
 "nbformat_minor": 4
}
