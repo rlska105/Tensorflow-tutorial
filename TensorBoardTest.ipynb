{
 "cells": [
  {
   "cell_type": "code",
   "execution_count": 7,
   "metadata": {},
   "outputs": [],
   "source": [
    "import tensorflow as tf\n",
    "import tensorflow.compat.v1 as tf\n",
    "tf.disable_v2_behavior()\n",
    "\n",
    "\n",
    "a = tf.constant(3.0)\n",
    "b = tf.constant(5.0)\n",
    "c = a * b\n",
    "\n",
    "# tensorboard에 point라는 이름으로 표시됨\n",
    "c_summary = tf.summary.scalar('point', c)\n",
    "merged = tf.summary.merge_all()\n",
    "\n",
    "with tf.Session() as sess:\n",
    "    writer = tf.summary.FileWriter('./logs/sample', sess.graph)\n",
    "\n",
    "    result = sess.run([merged])\n",
    "    sess.run(tf.global_variables_initializer())\n",
    "\n",
    "    writer.add_summary(result[0])\n"
   ]
  },
  {
   "cell_type": "code",
   "execution_count": null,
   "metadata": {},
   "outputs": [],
   "source": []
  }
 ],
 "metadata": {
  "kernelspec": {
   "display_name": "Python 3",
   "language": "python",
   "name": "python3"
  },
  "language_info": {
   "codemirror_mode": {
    "name": "ipython",
    "version": 3
   },
   "file_extension": ".py",
   "mimetype": "text/x-python",
   "name": "python",
   "nbconvert_exporter": "python",
   "pygments_lexer": "ipython3",
   "version": "3.7.6"
  }
 },
 "nbformat": 4,
 "nbformat_minor": 4
}
