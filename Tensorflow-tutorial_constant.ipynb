{
 "cells": [
  {
   "cell_type": "code",
   "execution_count": 28,
   "metadata": {},
   "outputs": [
    {
     "name": "stdout",
     "output_type": "stream",
     "text": [
      "Tensor(\"Const_51:0\", shape=(), dtype=float32) Tensor(\"Const_52:0\", shape=(), dtype=float32) Tensor(\"Const_53:0\", shape=(), dtype=float32)\n",
      "[5.0, 10.0, 15.0]\n",
      "Tensor(\"Add_17:0\", shape=(), dtype=float32)\n",
      "15.0\n"
     ]
    }
   ],
   "source": [
    "import tensorflow as tf\n",
    "import tensorflow.compat.v1 as tf\n",
    "tf.disable_v2_behavior()\n",
    "\n",
    "\n",
    "node1 = tf.constant(5.0, dtype=tf.float32)\n",
    "node2 = tf.constant(10.0)\n",
    "node3 = tf.constant(15.0)\n",
    "print(node1, node2, node3)\n",
    "\n",
    "sess = tf.Session()\n",
    "print(sess.run([node1, node2, node3]))\n",
    "\n",
    "node4 = tf.add(node1, node2)\n",
    "print(node4)\n",
    "print(sess.run(node4))\n",
    "\n",
    "sess.close()"
   ]
  },
  {
   "cell_type": "code",
   "execution_count": null,
   "metadata": {},
   "outputs": [],
   "source": []
  }
 ],
 "metadata": {
  "kernelspec": {
   "display_name": "Python 3",
   "language": "python",
   "name": "python3"
  },
  "language_info": {
   "codemirror_mode": {
    "name": "ipython",
    "version": 3
   },
   "file_extension": ".py",
   "mimetype": "text/x-python",
   "name": "python",
   "nbconvert_exporter": "python",
   "pygments_lexer": "ipython3",
   "version": "3.7.6"
  }
 },
 "nbformat": 4,
 "nbformat_minor": 4
}
